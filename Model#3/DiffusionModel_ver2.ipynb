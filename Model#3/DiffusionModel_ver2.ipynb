{
 "cells": [
  {
   "cell_type": "markdown",
   "metadata": {},
   "source": [
    "## Heat diffusion equation (1D PDE)"
   ]
  },
  {
   "cell_type": "markdown",
   "metadata": {},
   "source": [
    "Ref. [Solving the Heat Diffusion Equation (1D PDE) in Python](https://www.youtube.com/watch?v=6-2Wzs0sXd8&feature=youtu.be)"
   ]
  },
  {
   "cell_type": "code",
   "execution_count": 1,
   "metadata": {},
   "outputs": [],
   "source": [
    "import matplotlib.pyplot as plt\n",
    "import numpy as np\n",
    "import matplotlib.animation as animation\n",
    "from IPython.display import HTML\n",
    "import time\n",
    "from decimal import *\n",
    "import matplotlib.cm as cm"
   ]
  },
  {
   "cell_type": "code",
   "execution_count": 14,
   "metadata": {},
   "outputs": [],
   "source": [
    "#Temperature\n",
    "T = 298#[K]\n",
    "temp_0 = 23 + 273.15#[K]\n",
    "\n",
    "#Dimension\n",
    "L1 = 100E-6 #[m]\n",
    "L2 = 200E-6 #[m]\n",
    "L3 = 300E-6 #[m]\n",
    "L4 = 400E-6 #[m]\n",
    "L5 = 500E-6 #[m]\n",
    "M = 100E-6 #[m]\n",
    "N = 100E-6 #[m]\n",
    "S = M * N#[m2]\n",
    "\n",
    "Al_length = L1\n",
    "Cu_length = L5 - L4\n",
    "P_length = L2-L1\n",
    "N_length = L4-L3\n",
    "\n",
    "#Current\n",
    "I = 6.4E-7#[A = C/sec]\n",
    "j = I/S*0.1#(0.1ItA)[A = C/sec]\n",
    "#Constant\n",
    "R = 8.3144598 #[J/(mol K)]\n",
    "F = 96485.33289 #[C/mol]\n",
    "z = 1\n",
    "alpha=0.5\n",
    "k_o_p = 7.13E-8\n",
    "k_o_n = 1.47E-7\n",
    "C_e = 1000#[mol/m3]\n",
    "C_s_max_p = 2.39E4 #[mol/m3]\n",
    "C_s_max_n = 1.61E4 #[mol/m3]\n",
    "\n",
    "#Diffusion coefficient\n",
    "D_p = 1.0E-12#[m2/s]\n",
    "D_n = 1.0E-12 #[m2/s]\n"
   ]
  },
  {
   "cell_type": "code",
   "execution_count": 15,
   "metadata": {},
   "outputs": [
    {
     "name": "stdout",
     "output_type": "stream",
     "text": [
      "10.0 % processed \n",
      "20.0 % processed \n",
      "30.0 % processed \n",
      "40.0 % processed \n",
      "50.0 % processed \n",
      "60.0 % processed \n",
      "70.0 % processed \n",
      "80.0 % processed \n",
      "90.0 % processed \n",
      "100.0 % processed \n",
      "7.6 sec\n"
     ]
    }
   ],
   "source": [
    "t1 = time.time()\n",
    "# Number of partitions of rod (finite elements)\n",
    "n = 10\n",
    "dx = P_length/n\n",
    "\n",
    "t_total = 60*60*10 #[sec] run time\n",
    "dt = 0.1 #[sec] Time partitions\n",
    "t_total +=dt\n",
    "# Make an array with positions of middle of each partition\n",
    "x = np.linspace(dx/2, P_length - dx/2,n)\n",
    "\n",
    "# Initialize rod to initial temperature distribution.\n",
    "C = np.ones(len(x))*0 \n",
    "dCdt = np.empty(n)\n",
    "\n",
    "t = np.arange(0,t_total,dt)\n",
    "\n",
    "time_rlt = np.zeros(len(t))\n",
    "x_rlt = np.zeros((len(t),len(x)))\n",
    "C_rlt = np.zeros((len(t),len(C)))\n",
    "\n",
    "for jj in range(1,len(t)+1):\n",
    "    for i in range(1,n-1):\n",
    "\n",
    "        # Applying discrete definition of second derivative\n",
    "        dCdt[i] = D_p*((C[i+1] - C[i])/dx - (C[i] - C[i-1])/dx)/dx\n",
    "        \n",
    "    # Taking into account boundary condition. ie. T[0-1] DNE\n",
    "    dCdt[0] = D_p*((C[1] - C[0])/dx)/dx\n",
    "    dCdt[n-1] = D_p*(j*S/F/D_p - (C[n-1] - C[n-2])/dx)/dx\n",
    "    \n",
    "    # Update temperature data for rod\n",
    "    C = C + dCdt * dt\n",
    "\n",
    "    time_rlt[jj-1] = (jj-1)*dt\n",
    "    x_rlt[jj-1] = x #\n",
    "    C_rlt[jj-1] = C*n/P_length #concentration per meter\n",
    "    if jj % divmod(len(t), 10)[0] == 0:\n",
    "        print('{}'.format(jj/(len(t)-1)*100),'% processed ')\n",
    "\n",
    "t2 = time.time()\n",
    "print('{:.2}'.format(t2-t1),'sec')\n",
    "plt.clf()"
   ]
  },
  {
   "cell_type": "code",
   "execution_count": 16,
   "metadata": {},
   "outputs": [
    {
     "data": {
      "image/png": "[encoded data removed]",
      "text/plain": [
       "<matplotlib.figure.Figure at 0x118881630>"
      ]
     },
     "metadata": {},
     "output_type": "display_data"
    }
   ],
   "source": [
    "tt=60*60#[sec] delta time for plot\n",
    "for ii in range(len(time_rlt[time_rlt % tt == 0])):\n",
    "    plt.plot(x_rlt[time_rlt % tt == 0][ii]*1E6,C_rlt[time_rlt % tt == 0][ii], label = time_rlt[time_rlt % tt == 0][ii],color=cm.jet(ii/len(time_rlt[time_rlt % tt == 0])))\n",
    "plt.legend(loc='upper right',\n",
    "           bbox_to_anchor=(0.9, 0.9, 0.4, .100))\n",
    "plt.ylabel('Concentration of Li [mol/m]')\n",
    "plt.xlabel('Distance [μm]')\n",
    "plt.xlim(0,100)\n",
    "plt.grid()\n",
    "plt.show()"
   ]
  },
  {
   "cell_type": "code",
   "execution_count": 5,
   "metadata": {},
   "outputs": [
    {
     "data": {
      "text/plain": [
       "0.002304"
      ]
     },
     "execution_count": 5,
     "metadata": {},
     "output_type": "execute_result"
    }
   ],
   "source": [
    "#Input　coulomb\n",
    "60*60*10*j*S#[C]"
   ]
  },
  {
   "cell_type": "code",
   "execution_count": 6,
   "metadata": {},
   "outputs": [
    {
     "data": {
      "text/plain": [
       "0.0023059994560710004"
      ]
     },
     "execution_count": 6,
     "metadata": {},
     "output_type": "execute_result"
    }
   ],
   "source": [
    "C_s_max_p*P_length*S*F#[C]"
   ]
  },
  {
   "cell_type": "code",
   "execution_count": 7,
   "metadata": {},
   "outputs": [
    {
     "data": {
      "text/plain": [
       "241.21333222500002"
      ]
     },
     "execution_count": 7,
     "metadata": {},
     "output_type": "execute_result"
    }
   ],
   "source": [
    "#上記グラフから計算した、電極内　Totalクーロン量。　電流x時間と桁が違うので、確認必要。\n",
    "25*P_length*F#C"
   ]
  },
  {
   "cell_type": "code",
   "execution_count": 8,
   "metadata": {},
   "outputs": [
    {
     "data": {
      "text/plain": [
       "104693.28655598959"
      ]
     },
     "execution_count": 8,
     "metadata": {},
     "output_type": "execute_result"
    }
   ],
   "source": [
    "25*P_length*F/(60*60*10*j*S)"
   ]
  },
  {
   "cell_type": "code",
   "execution_count": 10,
   "metadata": {},
   "outputs": [
    {
     "name": "stdout",
     "output_type": "stream",
     "text": [
      "10.0 % processed \n",
      "20.0 % processed \n",
      "30.0 % processed \n",
      "40.0 % processed \n",
      "50.0 % processed \n",
      "60.0 % processed \n",
      "70.0 % processed \n",
      "80.0 % processed \n",
      "90.0 % processed \n",
      "100.0 % processed \n",
      "7.6 sec\n"
     ]
    }
   ],
   "source": [
    "t1 = time.time()\n",
    "# Number of partitions of rod (finite elements)\n",
    "n = 10\n",
    "dx = P_length/n\n",
    "\n",
    "t_total = 60*60*10 #[sec] run time\n",
    "dt = 0.1 #[sec] Time partitions\n",
    "t_total +=dt\n",
    "# Make an array with positions of middle of each partition\n",
    "x = np.linspace(dx/2, P_length - dx/2,n)\n",
    "\n",
    "# Initialize rod to initial temperature distribution.\n",
    "C = np.ones(len(x))*0 \n",
    "dCdt = np.empty(n)\n",
    "\n",
    "t = np.arange(0,t_total,dt)\n",
    "\n",
    "time_rlt = np.zeros(len(t))\n",
    "x_rlt = np.zeros((len(t),len(x)))\n",
    "C_rlt = np.zeros((len(t),len(C)))\n",
    "\n",
    "for jj in range(1,len(t)+1):\n",
    "    for i in range(1,n-1):\n",
    "\n",
    "        # Applying discrete definition of second derivative\n",
    "        dCdt[i] = D_p*((C[i+1] - C[i])/dx - (C[i] - C[i-1])/dx)/dx\n",
    "        \n",
    "    # Taking into account boundary condition. ie. T[0-1] DNE\n",
    "    dCdt[0] = D_p*((C[1] - C[0])/dx)/dx\n",
    "    dCdt[n-1] = D_p*(-j*S/F/D_p - (C[n-1] - C[n-2])/dx)/dx\n",
    "    \n",
    "    # Update temperature data for rod\n",
    "    C = C + dCdt * dt\n",
    "\n",
    "    time_rlt[jj-1] = (jj-1)*dt\n",
    "    x_rlt[jj-1] = x #\n",
    "    C_rlt[jj-1] = C*n/P_length #concentration per meter\n",
    "    if jj % divmod(len(t), 10)[0] == 0:\n",
    "        print('{}'.format(jj/(len(t)-1)*100),'% processed ')\n",
    "\n",
    "t2 = time.time()\n",
    "print('{:.2}'.format(t2-t1),'sec')\n",
    "plt.clf()"
   ]
  },
  {
   "cell_type": "code",
   "execution_count": 12,
   "metadata": {},
   "outputs": [
    {
     "data": {
      "image/png": "[encoded data removed]",
      "text/plain": [
       "<matplotlib.figure.Figure at 0x10989d518>"
      ]
     },
     "metadata": {},
     "output_type": "display_data"
    }
   ],
   "source": [
    "tt=60*60#[sec] delta time for plot\n",
    "for ii in range(len(time_rlt[time_rlt % tt == 0])):\n",
    "    plt.plot(x_rlt[time_rlt % tt == 0][ii]*1E6,C_rlt[time_rlt % tt == 0][ii], label = time_rlt[time_rlt % tt == 0][ii],color=cm.jet(ii/len(time_rlt[time_rlt % tt == 0])))\n",
    "plt.legend(loc='upper right',\n",
    "           bbox_to_anchor=(0.9, 0.9, 0.4, .100))\n",
    "plt.ylabel('Concentration of Li [mol/m]')\n",
    "plt.xlabel('Distance [μm]')\n",
    "plt.xlim(0,100)\n",
    "plt.grid()\n",
    "plt.show()"
   ]
  },
  {
   "cell_type": "markdown",
   "metadata": {},
   "source": [
    "# Memo"
   ]
  },
  {
   "cell_type": "code",
   "execution_count": 25,
   "metadata": {},
   "outputs": [
    {
     "name": "stdout",
     "output_type": "stream",
     "text": [
      "100 /1800 processed \n",
      "200 /1800 processed \n",
      "300 /1800 processed \n",
      "400 /1800 processed \n",
      "500 /1800 processed \n",
      "600 /1800 processed \n",
      "700 /1800 processed \n",
      "800 /1800 processed \n",
      "900 /1800 processed \n",
      "1000 /1800 processed \n",
      "1100 /1800 processed \n",
      "1200 /1800 processed \n",
      "1300 /1800 processed \n",
      "1400 /1800 processed \n",
      "1500 /1800 processed \n",
      "1600 /1800 processed \n",
      "1700 /1800 processed \n",
      "121.73760795593262\n"
     ]
    }
   ],
   "source": [
    "t1 = time.time()\n",
    "# Number of partitions of rod (finite elements)\n",
    "n = 5\n",
    "dx = P_length/n\n",
    "\n",
    "t_total = 60*60*10/10 #[sec] run time\n",
    "dt = 2 #[sec] Time partitions\n",
    "\n",
    "# Make an array with positions of middle of each partition\n",
    "x = np.linspace(dx/2, P_length - dx/2,n)\n",
    "\n",
    "# Initialize rod to initial temperature distribution.\n",
    "C = np.ones(len(x))*0 \n",
    "dCdt = np.empty(n)\n",
    "\n",
    "t = np.arange(0,t_total,dt)\n",
    "\n",
    "fig = plt.figure()\n",
    "ims = [] \n",
    "for jj in range(1,len(t)):\n",
    "    for i in range(1,n-1):\n",
    "\n",
    "        # Applying discrete definition of second derivative\n",
    "        dCdt[i] = D_p*((C[i+1] - C[i])/dx - (C[i] - C[i-1])/dx)/dx\n",
    "        \n",
    "    # Taking into account boundary condition. ie. T[0-1] DNE\n",
    "    dCdt[0] = D_p*((C[1] - C[0])/dx)/dx\n",
    "    dCdt[n-1] = D_p*(j*S/F/D_p - (C[n-1] - C[n-2])/dx)/dx\n",
    "    \n",
    "    # Update temperature data for rod\n",
    "    C = C + dCdt * dt\n",
    "    plt.xlabel('Distance [μm]')\n",
    "    plt.ylabel('Concentration of Li [mol]')\n",
    "    pt = plt.plot(x*10E6,C, color = 'black')\n",
    "    ims.append(pt)\n",
    "    if jj % 100 == 0:\n",
    "        print('{}'.format(jj),'/{}'.format(len(t)),'processed ')\n",
    "\n",
    "ani = animation.ArtistAnimation(fig,ims,interval=10) # interval[milliseconds]\n",
    "ani.save(\"model4.mp4\", writer=\"ffmpeg\")\n",
    "\n",
    "t2 = time.time()\n",
    "print(t2-t1)\n",
    "plt.clf()"
   ]
  },
  {
   "cell_type": "markdown",
   "metadata": {},
   "source": [
    "print('{}'.format(jj),'/{}'.format(len(t)),'processed ')"
   ]
  },
  {
   "cell_type": "code",
   "execution_count": 489,
   "metadata": {},
   "outputs": [
    {
     "data": {
      "text/plain": [
       "0.0024121333222500005"
      ]
     },
     "execution_count": 489,
     "metadata": {},
     "output_type": "execute_result"
    }
   ],
   "source": [
    "0.000025*10*F*P_length#[C]"
   ]
  },
  {
   "cell_type": "code",
   "execution_count": 180,
   "metadata": {},
   "outputs": [
    {
     "data": {
      "text/plain": [
       "0.002304"
      ]
     },
     "execution_count": 180,
     "metadata": {},
     "output_type": "execute_result"
    }
   ],
   "source": [
    "#Input　coulomb\n",
    "60*60*10*j*S#[C]"
   ]
  },
  {
   "cell_type": "code",
   "execution_count": 181,
   "metadata": {},
   "outputs": [
    {
     "data": {
      "text/plain": [
       "0.0023059994560710004"
      ]
     },
     "execution_count": 181,
     "metadata": {},
     "output_type": "execute_result"
    }
   ],
   "source": [
    "C_s_max_p*P_length*S*F#[C]"
   ]
  },
  {
   "cell_type": "code",
   "execution_count": null,
   "metadata": {},
   "outputs": [],
   "source": []
  },
  {
   "cell_type": "code",
   "execution_count": null,
   "metadata": {},
   "outputs": [],
   "source": []
  },
  {
   "cell_type": "code",
   "execution_count": null,
   "metadata": {},
   "outputs": [],
   "source": []
  },
  {
   "cell_type": "code",
   "execution_count": null,
   "metadata": {},
   "outputs": [],
   "source": []
  },
  {
   "cell_type": "code",
   "execution_count": null,
   "metadata": {},
   "outputs": [],
   "source": []
  },
  {
   "cell_type": "code",
   "execution_count": null,
   "metadata": {},
   "outputs": [],
   "source": []
  },
  {
   "cell_type": "code",
   "execution_count": null,
   "metadata": {},
   "outputs": [],
   "source": []
  },
  {
   "cell_type": "code",
   "execution_count": 2,
   "metadata": {},
   "outputs": [],
   "source": [
    "#Temperature\n",
    "T = 298#[K]\n",
    "temp_0 = 23 + 273.15#[K]\n",
    "\n",
    "#Dimension\n",
    "L1 = Decimal(\"100E-6\")#[m]\n",
    "L2 = Decimal(\"200E-6\")#[m]\n",
    "L3 = Decimal(\"300E-6\")#[m]\n",
    "L4 = Decimal(\"400E-6\")#[m]\n",
    "L5 = Decimal(\"500E-6\")#[m]\n",
    "M = Decimal(\"100E-6\")#[m]\n",
    "N = Decimal(\"100E-6\")#[m]\n",
    "S = M * N#[m2]\n",
    "\n",
    "Al_length = L1\n",
    "Cu_length = L5 - L4\n",
    "P_length = L2-L1\n",
    "N_length = L4-L3\n",
    "\n",
    "#Current\n",
    "I = Decimal(\"5E-7\")#[A = C/s]\n",
    "j = I/S*Decimal(\"0.1\")#(0.1ItA)\n",
    "#Constant\n",
    "R = Decimal(\"8.3144598\")#[J/(mol K)]\n",
    "F = Decimal(\"96485.33289\")#[C/mol]\n",
    "z = 1\n",
    "alpha=0.5\n",
    "k_o_p = Decimal(\"7.13E-8\")\n",
    "k_o_n = Decimal(\"1.47E-7\")\n",
    "C_e = Decimal(\"1000\")#[mol/m3]\n",
    "C_s_max_p = Decimal(\"2.39E4\")#[mol/m3]\n",
    "C_s_max_n = Decimal(\"1.61E4\")#[mol/m3]\n",
    "\n",
    "#Diffusion coefficient\n",
    "D_p = Decimal(\"1.0E-10\")#[m2/s]\n",
    "D_n = Decimal(\"3.9E-16\")#[m2/s]\n",
    "\n"
   ]
  },
  {
   "cell_type": "code",
   "execution_count": 31,
   "metadata": {},
   "outputs": [
    {
     "name": "stderr",
     "output_type": "stream",
     "text": [
      "/Users/takumkawahara/anaconda3/envs/keras/lib/python3.5/site-packages/ipykernel/__main__.py:1: DeprecationWarning: object of type <class 'decimal.Decimal'> cannot be safely interpreted as an integer.\n",
      "  if __name__ == '__main__':\n"
     ]
    },
    {
     "ename": "TypeError",
     "evalue": "unsupported operand type(s) for *: 'decimal.Decimal' and 'float'",
     "output_type": "error",
     "traceback": [
      "\u001b[0;31m---------------------------------------------------------------------------\u001b[0m",
      "\u001b[0;31mTypeError\u001b[0m                                 Traceback (most recent call last)",
      "\u001b[0;32m<ipython-input-31-4694f0775a1e>\u001b[0m in \u001b[0;36m<module>\u001b[0;34m()\u001b[0m\n\u001b[0;32m----> 1\u001b[0;31m \u001b[0mx\u001b[0m \u001b[0;34m=\u001b[0m \u001b[0mnp\u001b[0m\u001b[0;34m.\u001b[0m\u001b[0mlinspace\u001b[0m\u001b[0;34m(\u001b[0m\u001b[0mDecimal\u001b[0m\u001b[0;34m(\u001b[0m\u001b[0mdx\u001b[0m\u001b[0;34m)\u001b[0m\u001b[0;34m,\u001b[0m  \u001b[0mDecimal\u001b[0m\u001b[0;34m(\u001b[0m\u001b[0mdx\u001b[0m\u001b[0;34m)\u001b[0m\u001b[0;34m,\u001b[0m\u001b[0mDecimal\u001b[0m\u001b[0;34m(\u001b[0m\u001b[0mn\u001b[0m\u001b[0;34m)\u001b[0m\u001b[0;34m)\u001b[0m\u001b[0;34m\u001b[0m\u001b[0m\n\u001b[0m",
      "\u001b[0;32m~/anaconda3/envs/keras/lib/python3.5/site-packages/numpy/core/function_base.py\u001b[0m in \u001b[0;36mlinspace\u001b[0;34m(start, stop, num, endpoint, retstep, dtype)\u001b[0m\n\u001b[1;32m    106\u001b[0m     \u001b[0;31m# Convert float/complex array scalars to float, gh-3504\u001b[0m\u001b[0;34m\u001b[0m\u001b[0;34m\u001b[0m\u001b[0m\n\u001b[1;32m    107\u001b[0m     \u001b[0;31m# and make sure one can use variables that have an __array_interface__, gh-6634\u001b[0m\u001b[0;34m\u001b[0m\u001b[0;34m\u001b[0m\u001b[0m\n\u001b[0;32m--> 108\u001b[0;31m     \u001b[0mstart\u001b[0m \u001b[0;34m=\u001b[0m \u001b[0masanyarray\u001b[0m\u001b[0;34m(\u001b[0m\u001b[0mstart\u001b[0m\u001b[0;34m)\u001b[0m \u001b[0;34m*\u001b[0m \u001b[0;36m1.0\u001b[0m\u001b[0;34m\u001b[0m\u001b[0m\n\u001b[0m\u001b[1;32m    109\u001b[0m     \u001b[0mstop\u001b[0m  \u001b[0;34m=\u001b[0m \u001b[0masanyarray\u001b[0m\u001b[0;34m(\u001b[0m\u001b[0mstop\u001b[0m\u001b[0;34m)\u001b[0m  \u001b[0;34m*\u001b[0m \u001b[0;36m1.0\u001b[0m\u001b[0;34m\u001b[0m\u001b[0m\n\u001b[1;32m    110\u001b[0m \u001b[0;34m\u001b[0m\u001b[0m\n",
      "\u001b[0;31mTypeError\u001b[0m: unsupported operand type(s) for *: 'decimal.Decimal' and 'float'"
     ]
    }
   ],
   "source": [
    "x = np.linspace(Decimal(dx),  Decimal(dx),Decimal(n))"
   ]
  },
  {
   "cell_type": "code",
   "execution_count": null,
   "metadata": {},
   "outputs": [],
   "source": []
  },
  {
   "cell_type": "code",
   "execution_count": 19,
   "metadata": {},
   "outputs": [
    {
     "ename": "TypeError",
     "evalue": "unsupported operand type(s) for *: 'decimal.Decimal' and 'float'",
     "output_type": "error",
     "traceback": [
      "\u001b[0;31m---------------------------------------------------------------------------\u001b[0m",
      "\u001b[0;31mTypeError\u001b[0m                                 Traceback (most recent call last)",
      "\u001b[0;32m<ipython-input-19-caa1de14cec2>\u001b[0m in \u001b[0;36m<module>\u001b[0;34m()\u001b[0m\n\u001b[1;32m      8\u001b[0m \u001b[0;34m\u001b[0m\u001b[0m\n\u001b[1;32m      9\u001b[0m \u001b[0;31m# Make an array with positions of middle of each partition\u001b[0m\u001b[0;34m\u001b[0m\u001b[0;34m\u001b[0m\u001b[0m\n\u001b[0;32m---> 10\u001b[0;31m \u001b[0mx\u001b[0m \u001b[0;34m=\u001b[0m \u001b[0mnp\u001b[0m\u001b[0;34m.\u001b[0m\u001b[0mlinspace\u001b[0m\u001b[0;34m(\u001b[0m\u001b[0mdx\u001b[0m\u001b[0;34m/\u001b[0m\u001b[0mDecimal\u001b[0m\u001b[0;34m(\u001b[0m\u001b[0;34m\"2\"\u001b[0m\u001b[0;34m)\u001b[0m\u001b[0;34m,\u001b[0m \u001b[0mP_length\u001b[0m \u001b[0;34m-\u001b[0m \u001b[0mdx\u001b[0m\u001b[0;34m/\u001b[0m\u001b[0mDecimal\u001b[0m\u001b[0;34m(\u001b[0m\u001b[0;34m\"2\"\u001b[0m\u001b[0;34m)\u001b[0m\u001b[0;34m,\u001b[0m\u001b[0;36m5\u001b[0m\u001b[0;34m)\u001b[0m\u001b[0;34m\u001b[0m\u001b[0m\n\u001b[0m\u001b[1;32m     11\u001b[0m \u001b[0;34m\u001b[0m\u001b[0m\n\u001b[1;32m     12\u001b[0m \u001b[0;31m# Initialize rod to initial temperature distribution.\u001b[0m\u001b[0;34m\u001b[0m\u001b[0;34m\u001b[0m\u001b[0m\n",
      "\u001b[0;32m~/anaconda3/envs/keras/lib/python3.5/site-packages/numpy/core/function_base.py\u001b[0m in \u001b[0;36mlinspace\u001b[0;34m(start, stop, num, endpoint, retstep, dtype)\u001b[0m\n\u001b[1;32m    106\u001b[0m     \u001b[0;31m# Convert float/complex array scalars to float, gh-3504\u001b[0m\u001b[0;34m\u001b[0m\u001b[0;34m\u001b[0m\u001b[0m\n\u001b[1;32m    107\u001b[0m     \u001b[0;31m# and make sure one can use variables that have an __array_interface__, gh-6634\u001b[0m\u001b[0;34m\u001b[0m\u001b[0;34m\u001b[0m\u001b[0m\n\u001b[0;32m--> 108\u001b[0;31m     \u001b[0mstart\u001b[0m \u001b[0;34m=\u001b[0m \u001b[0masanyarray\u001b[0m\u001b[0;34m(\u001b[0m\u001b[0mstart\u001b[0m\u001b[0;34m)\u001b[0m \u001b[0;34m*\u001b[0m \u001b[0;36m1.0\u001b[0m\u001b[0;34m\u001b[0m\u001b[0m\n\u001b[0m\u001b[1;32m    109\u001b[0m     \u001b[0mstop\u001b[0m  \u001b[0;34m=\u001b[0m \u001b[0masanyarray\u001b[0m\u001b[0;34m(\u001b[0m\u001b[0mstop\u001b[0m\u001b[0;34m)\u001b[0m  \u001b[0;34m*\u001b[0m \u001b[0;36m1.0\u001b[0m\u001b[0;34m\u001b[0m\u001b[0m\n\u001b[1;32m    110\u001b[0m \u001b[0;34m\u001b[0m\u001b[0m\n",
      "\u001b[0;31mTypeError\u001b[0m: unsupported operand type(s) for *: 'decimal.Decimal' and 'float'"
     ]
    }
   ],
   "source": [
    "t1 = time.time()\n",
    "# Number of partitions of rod (finite elements)\n",
    "n = Decimal(\"5\")\n",
    "dx = Decimal(P_length/n)\n",
    "\n",
    "t_total = Decimal(\"60\")*Decimal(\"60\")*Decimal(\"10\")/Decimal(\"60\") #[sec] run time\n",
    "dt = Decimal(\"2\") #[sec] Time partitions\n",
    "\n",
    "# Make an array with positions of middle of each partition\n",
    "x = np.linspace(dx/Decimal(\"2\"), P_length - dx/Decimal(\"2\"),n)\n",
    "\n",
    "# Initialize rod to initial temperature distribution.\n",
    "C = np.ones(len(x))*0 \n",
    "dCdt = np.empty(n)\n",
    "\n",
    "t = np.arange(0,t_total,dt)\n",
    "\n",
    "fig = plt.figure()\n",
    "ims = [] \n",
    "for jj in range(1,len(t)):\n",
    "    for i in range(1,n-1):\n",
    "\n",
    "        # Applying discrete definition of second derivative\n",
    "        dCdt[i] = D_p*((C[i+1] - C[i])/dx - (C[i] - C[i-1])/dx)/dx\n",
    "        \n",
    "    # Taking into account boundary condition. ie. T[0-1] DNE\n",
    "    dCdt[0] = D_p*((C[1] - C[0])/dx)/dx\n",
    "    dCdt[n-1] = D_p*(j*S/F/D_p - (C[n-1] - C[n-2])/dx)/dx\n",
    "\n",
    "\n",
    "    # Update temperature data for rod\n",
    "    C = C + dCdt * dt\n",
    "    plt.xlabel('Distance [m]')\n",
    "    plt.ylabel('Concentration of Li [mol]')\n",
    "    pt = plt.plot(x,C)\n",
    "    ims.append(pt)\n",
    "\n",
    "ani = animation.ArtistAnimation(fig,ims,interval=10) # アニメ関数\n",
    "ani.save(\"model4.mp4\", writer=\"ffmpeg\")\n",
    "#HTML(ani.to_html5_video())\n",
    "t2 = time.time()\n",
    "elapsed_time = t2-t1\n",
    "print(elapsed_time)"
   ]
  },
  {
   "cell_type": "code",
   "execution_count": 144,
   "metadata": {},
   "outputs": [
    {
     "name": "stderr",
     "output_type": "stream",
     "text": [
      "/Users/takumkawahara/anaconda3/envs/keras/lib/python3.5/site-packages/ipykernel/__main__.py:11: DeprecationWarning: object of type <class 'decimal.Decimal'> cannot be safely interpreted as an integer.\n"
     ]
    },
    {
     "ename": "TypeError",
     "evalue": "unsupported operand type(s) for *: 'decimal.Decimal' and 'float'",
     "output_type": "error",
     "traceback": [
      "\u001b[0;31m---------------------------------------------------------------------------\u001b[0m",
      "\u001b[0;31mTypeError\u001b[0m                                 Traceback (most recent call last)",
      "\u001b[0;32m<ipython-input-144-68f183871b11>\u001b[0m in \u001b[0;36m<module>\u001b[0;34m()\u001b[0m\n\u001b[1;32m      9\u001b[0m \u001b[0;34m\u001b[0m\u001b[0m\n\u001b[1;32m     10\u001b[0m \u001b[0;31m# Make an array with positions of middle of each partition\u001b[0m\u001b[0;34m\u001b[0m\u001b[0;34m\u001b[0m\u001b[0m\n\u001b[0;32m---> 11\u001b[0;31m \u001b[0mx\u001b[0m \u001b[0;34m=\u001b[0m \u001b[0mnp\u001b[0m\u001b[0;34m.\u001b[0m\u001b[0mlinspace\u001b[0m\u001b[0;34m(\u001b[0m\u001b[0mdx\u001b[0m\u001b[0;34m/\u001b[0m\u001b[0mDecimal\u001b[0m\u001b[0;34m(\u001b[0m\u001b[0;34m\"2\"\u001b[0m\u001b[0;34m)\u001b[0m\u001b[0;34m,\u001b[0m \u001b[0mP_length\u001b[0m \u001b[0;34m-\u001b[0m \u001b[0mdx\u001b[0m\u001b[0;34m/\u001b[0m\u001b[0mDecimal\u001b[0m\u001b[0;34m(\u001b[0m\u001b[0;34m\"2\"\u001b[0m\u001b[0;34m)\u001b[0m\u001b[0;34m,\u001b[0m\u001b[0mn\u001b[0m\u001b[0;34m)\u001b[0m\u001b[0;34m\u001b[0m\u001b[0m\n\u001b[0m",
      "\u001b[0;32m~/anaconda3/envs/keras/lib/python3.5/site-packages/numpy/core/function_base.py\u001b[0m in \u001b[0;36mlinspace\u001b[0;34m(start, stop, num, endpoint, retstep, dtype)\u001b[0m\n\u001b[1;32m    106\u001b[0m     \u001b[0;31m# Convert float/complex array scalars to float, gh-3504\u001b[0m\u001b[0;34m\u001b[0m\u001b[0;34m\u001b[0m\u001b[0m\n\u001b[1;32m    107\u001b[0m     \u001b[0;31m# and make sure one can use variables that have an __array_interface__, gh-6634\u001b[0m\u001b[0;34m\u001b[0m\u001b[0;34m\u001b[0m\u001b[0m\n\u001b[0;32m--> 108\u001b[0;31m     \u001b[0mstart\u001b[0m \u001b[0;34m=\u001b[0m \u001b[0masanyarray\u001b[0m\u001b[0;34m(\u001b[0m\u001b[0mstart\u001b[0m\u001b[0;34m)\u001b[0m \u001b[0;34m*\u001b[0m \u001b[0;36m1.0\u001b[0m\u001b[0;34m\u001b[0m\u001b[0m\n\u001b[0m\u001b[1;32m    109\u001b[0m     \u001b[0mstop\u001b[0m  \u001b[0;34m=\u001b[0m \u001b[0masanyarray\u001b[0m\u001b[0;34m(\u001b[0m\u001b[0mstop\u001b[0m\u001b[0;34m)\u001b[0m  \u001b[0;34m*\u001b[0m \u001b[0;36m1.0\u001b[0m\u001b[0;34m\u001b[0m\u001b[0m\n\u001b[1;32m    110\u001b[0m \u001b[0;34m\u001b[0m\u001b[0m\n",
      "\u001b[0;31mTypeError\u001b[0m: unsupported operand type(s) for *: 'decimal.Decimal' and 'float'"
     ]
    }
   ],
   "source": [
    "t1 = time.time()\n",
    "D_p = Decimal(\"1E-10\")#[m2/s]\n",
    "# Number of partitions of rod (finite elements)\n",
    "n = Decimal(\"5\")\n",
    "dx = P_length/n\n",
    "\n",
    "t_total = Decimal(\"60\")*Decimal(\"60\")*Decimal(\"10\")/Decimal(\"60\") #[sec] run time\n",
    "dt = Decimal(\"2\") #[sec] Time partitions\n",
    "\n",
    "# Make an array with positions of middle of each partition\n",
    "x = np.linspace(dx/Decimal(\"2\"), P_length - dx/Decimal(\"2\"),n)"
   ]
  },
  {
   "cell_type": "code",
   "execution_count": null,
   "metadata": {},
   "outputs": [],
   "source": []
  }
 ],
 "metadata": {
  "kernelspec": {
   "display_name": "Python [conda env:keras]",
   "language": "python",
   "name": "conda-env-keras-py"
  },
  "language_info": {
   "codemirror_mode": {
    "name": "ipython",
    "version": 3
   },
   "file_extension": ".py",
   "mimetype": "text/x-python",
   "name": "python",
   "nbconvert_exporter": "python",
   "pygments_lexer": "ipython3",
   "version": "3.5.4"
  }
 },
 "nbformat": 4,
 "nbformat_minor": 2
}
